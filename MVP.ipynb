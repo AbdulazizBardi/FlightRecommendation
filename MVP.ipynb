{
 "cells": [
  {
   "cell_type": "markdown",
   "id": "085af63e",
   "metadata": {},
   "source": [
    "# Minimum Viable Product (MVP)"
   ]
  },
  {
   "cell_type": "markdown",
   "id": "593f1b81",
   "metadata": {},
   "source": [
    "The goal is to better understand the dataset. And performing EDA as well as cleaning the dataset."
   ]
  },
  {
   "cell_type": "code",
   "execution_count": 22,
   "id": "d1084a48",
   "metadata": {},
   "outputs": [],
   "source": [
    "import pandas as pd\n",
    "import numpy as np\n",
    "import matplotlib.pyplot as plt\n",
    "import seaborn as sns\n",
    "import warnings\n",
    "warnings.filterwarnings('ignore')"
   ]
  },
  {
   "cell_type": "code",
   "execution_count": 23,
   "id": "836a05f2",
   "metadata": {},
   "outputs": [],
   "source": [
    "players = pd.read_excel('FUT FIFA 22 Players.xlsx')"
   ]
  },
  {
   "cell_type": "code",
   "execution_count": 24,
   "id": "6d6d7338",
   "metadata": {},
   "outputs": [
    {
     "data": {
      "text/plain": [
       "(17305, 93)"
      ]
     },
     "execution_count": 24,
     "metadata": {},
     "output_type": "execute_result"
    }
   ],
   "source": [
    "players.shape"
   ]
  },
  {
   "cell_type": "code",
   "execution_count": 25,
   "id": "d138e442",
   "metadata": {},
   "outputs": [
    {
     "data": {
      "text/html": [
       "<div>\n",
       "<style scoped>\n",
       "    .dataframe tbody tr th:only-of-type {\n",
       "        vertical-align: middle;\n",
       "    }\n",
       "\n",
       "    .dataframe tbody tr th {\n",
       "        vertical-align: top;\n",
       "    }\n",
       "\n",
       "    .dataframe thead th {\n",
       "        text-align: right;\n",
       "    }\n",
       "</style>\n",
       "<table border=\"1\" class=\"dataframe\">\n",
       "  <thead>\n",
       "    <tr style=\"text-align: right;\">\n",
       "      <th></th>\n",
       "      <th>futbin_id</th>\n",
       "      <th>base_id</th>\n",
       "      <th>resource_id</th>\n",
       "      <th>player_url</th>\n",
       "      <th>short_name</th>\n",
       "      <th>long_name</th>\n",
       "      <th>fut_card_added_date</th>\n",
       "      <th>fut_card_quality</th>\n",
       "      <th>fut_card_revision</th>\n",
       "      <th>fut_card_origin</th>\n",
       "      <th>...</th>\n",
       "      <th>cdm</th>\n",
       "      <th>lwb</th>\n",
       "      <th>rwb</th>\n",
       "      <th>lb</th>\n",
       "      <th>rb</th>\n",
       "      <th>cb</th>\n",
       "      <th>player_face_url</th>\n",
       "      <th>club_logo_url</th>\n",
       "      <th>league_logo_url</th>\n",
       "      <th>nationality_flag_url</th>\n",
       "    </tr>\n",
       "  </thead>\n",
       "  <tbody>\n",
       "    <tr>\n",
       "      <th>0</th>\n",
       "      <td>1</td>\n",
       "      <td>51</td>\n",
       "      <td>51</td>\n",
       "      <td>https://www.futbin.com/22/player/1/alan-shearer</td>\n",
       "      <td>Shearer</td>\n",
       "      <td>Alan Shearer</td>\n",
       "      <td>2021-08-31</td>\n",
       "      <td>Gold - Rare</td>\n",
       "      <td>Icon</td>\n",
       "      <td>Prime</td>\n",
       "      <td>...</td>\n",
       "      <td>67.0</td>\n",
       "      <td>69.0</td>\n",
       "      <td>69.0</td>\n",
       "      <td>68.0</td>\n",
       "      <td>68.0</td>\n",
       "      <td>66.0</td>\n",
       "      <td>https://cdn.futbin.com/content/fifa22/img/play...</td>\n",
       "      <td>https://cdn.futbin.com/content/fifa22/img/club...</td>\n",
       "      <td>https://cdn.futbin.com/content/fifa22/img/leag...</td>\n",
       "      <td>https://cdn.futbin.com/content/fifa22/img/nati...</td>\n",
       "    </tr>\n",
       "    <tr>\n",
       "      <th>1</th>\n",
       "      <td>2</td>\n",
       "      <td>239598</td>\n",
       "      <td>239598</td>\n",
       "      <td>https://www.futbin.com/22/player/2/alan-shearer</td>\n",
       "      <td>Shearer</td>\n",
       "      <td>Alan Shearer</td>\n",
       "      <td>2021-08-31</td>\n",
       "      <td>Gold - Rare</td>\n",
       "      <td>Icon</td>\n",
       "      <td>Medium</td>\n",
       "      <td>...</td>\n",
       "      <td>64.0</td>\n",
       "      <td>68.0</td>\n",
       "      <td>68.0</td>\n",
       "      <td>66.0</td>\n",
       "      <td>66.0</td>\n",
       "      <td>63.0</td>\n",
       "      <td>https://cdn.futbin.com/content/fifa22/img/play...</td>\n",
       "      <td>https://cdn.futbin.com/content/fifa22/img/club...</td>\n",
       "      <td>https://cdn.futbin.com/content/fifa22/img/leag...</td>\n",
       "      <td>https://cdn.futbin.com/content/fifa22/img/nati...</td>\n",
       "    </tr>\n",
       "    <tr>\n",
       "      <th>2</th>\n",
       "      <td>3</td>\n",
       "      <td>239599</td>\n",
       "      <td>239599</td>\n",
       "      <td>https://www.futbin.com/22/player/3/alan-shearer</td>\n",
       "      <td>Shearer</td>\n",
       "      <td>Alan Shearer</td>\n",
       "      <td>2021-08-31</td>\n",
       "      <td>Gold - Rare</td>\n",
       "      <td>Icon</td>\n",
       "      <td>Base</td>\n",
       "      <td>...</td>\n",
       "      <td>67.0</td>\n",
       "      <td>68.0</td>\n",
       "      <td>68.0</td>\n",
       "      <td>67.0</td>\n",
       "      <td>67.0</td>\n",
       "      <td>66.0</td>\n",
       "      <td>https://cdn.futbin.com/content/fifa22/img/play...</td>\n",
       "      <td>https://cdn.futbin.com/content/fifa22/img/club...</td>\n",
       "      <td>https://cdn.futbin.com/content/fifa22/img/leag...</td>\n",
       "      <td>https://cdn.futbin.com/content/fifa22/img/nati...</td>\n",
       "    </tr>\n",
       "    <tr>\n",
       "      <th>3</th>\n",
       "      <td>4</td>\n",
       "      <td>1075</td>\n",
       "      <td>1075</td>\n",
       "      <td>https://www.futbin.com/22/player/4/alessandro-...</td>\n",
       "      <td>Del Piero</td>\n",
       "      <td>Alessandro Del Piero</td>\n",
       "      <td>2021-08-31</td>\n",
       "      <td>Gold - Rare</td>\n",
       "      <td>Icon</td>\n",
       "      <td>Medium</td>\n",
       "      <td>...</td>\n",
       "      <td>65.0</td>\n",
       "      <td>69.0</td>\n",
       "      <td>69.0</td>\n",
       "      <td>64.0</td>\n",
       "      <td>64.0</td>\n",
       "      <td>54.0</td>\n",
       "      <td>https://cdn.futbin.com/content/fifa22/img/play...</td>\n",
       "      <td>https://cdn.futbin.com/content/fifa22/img/club...</td>\n",
       "      <td>https://cdn.futbin.com/content/fifa22/img/leag...</td>\n",
       "      <td>https://cdn.futbin.com/content/fifa22/img/nati...</td>\n",
       "    </tr>\n",
       "    <tr>\n",
       "      <th>4</th>\n",
       "      <td>5</td>\n",
       "      <td>238382</td>\n",
       "      <td>238382</td>\n",
       "      <td>https://www.futbin.com/22/player/5/alessandro-...</td>\n",
       "      <td>Del Piero</td>\n",
       "      <td>Alessandro Del Piero</td>\n",
       "      <td>2021-08-31</td>\n",
       "      <td>Gold - Rare</td>\n",
       "      <td>Icon</td>\n",
       "      <td>Prime</td>\n",
       "      <td>...</td>\n",
       "      <td>66.0</td>\n",
       "      <td>70.0</td>\n",
       "      <td>70.0</td>\n",
       "      <td>65.0</td>\n",
       "      <td>65.0</td>\n",
       "      <td>56.0</td>\n",
       "      <td>https://cdn.futbin.com/content/fifa22/img/play...</td>\n",
       "      <td>https://cdn.futbin.com/content/fifa22/img/club...</td>\n",
       "      <td>https://cdn.futbin.com/content/fifa22/img/leag...</td>\n",
       "      <td>https://cdn.futbin.com/content/fifa22/img/nati...</td>\n",
       "    </tr>\n",
       "  </tbody>\n",
       "</table>\n",
       "<p>5 rows × 93 columns</p>\n",
       "</div>"
      ],
      "text/plain": [
       "   futbin_id  base_id  resource_id  \\\n",
       "0          1       51           51   \n",
       "1          2   239598       239598   \n",
       "2          3   239599       239599   \n",
       "3          4     1075         1075   \n",
       "4          5   238382       238382   \n",
       "\n",
       "                                          player_url short_name  \\\n",
       "0    https://www.futbin.com/22/player/1/alan-shearer    Shearer   \n",
       "1    https://www.futbin.com/22/player/2/alan-shearer    Shearer   \n",
       "2    https://www.futbin.com/22/player/3/alan-shearer    Shearer   \n",
       "3  https://www.futbin.com/22/player/4/alessandro-...  Del Piero   \n",
       "4  https://www.futbin.com/22/player/5/alessandro-...  Del Piero   \n",
       "\n",
       "              long_name fut_card_added_date fut_card_quality  \\\n",
       "0          Alan Shearer          2021-08-31      Gold - Rare   \n",
       "1          Alan Shearer          2021-08-31      Gold - Rare   \n",
       "2          Alan Shearer          2021-08-31      Gold - Rare   \n",
       "3  Alessandro Del Piero          2021-08-31      Gold - Rare   \n",
       "4  Alessandro Del Piero          2021-08-31      Gold - Rare   \n",
       "\n",
       "  fut_card_revision fut_card_origin  ...   cdm   lwb   rwb    lb    rb    cb  \\\n",
       "0              Icon           Prime  ...  67.0  69.0  69.0  68.0  68.0  66.0   \n",
       "1              Icon          Medium  ...  64.0  68.0  68.0  66.0  66.0  63.0   \n",
       "2              Icon            Base  ...  67.0  68.0  68.0  67.0  67.0  66.0   \n",
       "3              Icon          Medium  ...  65.0  69.0  69.0  64.0  64.0  54.0   \n",
       "4              Icon           Prime  ...  66.0  70.0  70.0  65.0  65.0  56.0   \n",
       "\n",
       "                                     player_face_url  \\\n",
       "0  https://cdn.futbin.com/content/fifa22/img/play...   \n",
       "1  https://cdn.futbin.com/content/fifa22/img/play...   \n",
       "2  https://cdn.futbin.com/content/fifa22/img/play...   \n",
       "3  https://cdn.futbin.com/content/fifa22/img/play...   \n",
       "4  https://cdn.futbin.com/content/fifa22/img/play...   \n",
       "\n",
       "                                       club_logo_url  \\\n",
       "0  https://cdn.futbin.com/content/fifa22/img/club...   \n",
       "1  https://cdn.futbin.com/content/fifa22/img/club...   \n",
       "2  https://cdn.futbin.com/content/fifa22/img/club...   \n",
       "3  https://cdn.futbin.com/content/fifa22/img/club...   \n",
       "4  https://cdn.futbin.com/content/fifa22/img/club...   \n",
       "\n",
       "                                     league_logo_url  \\\n",
       "0  https://cdn.futbin.com/content/fifa22/img/leag...   \n",
       "1  https://cdn.futbin.com/content/fifa22/img/leag...   \n",
       "2  https://cdn.futbin.com/content/fifa22/img/leag...   \n",
       "3  https://cdn.futbin.com/content/fifa22/img/leag...   \n",
       "4  https://cdn.futbin.com/content/fifa22/img/leag...   \n",
       "\n",
       "                                nationality_flag_url  \n",
       "0  https://cdn.futbin.com/content/fifa22/img/nati...  \n",
       "1  https://cdn.futbin.com/content/fifa22/img/nati...  \n",
       "2  https://cdn.futbin.com/content/fifa22/img/nati...  \n",
       "3  https://cdn.futbin.com/content/fifa22/img/nati...  \n",
       "4  https://cdn.futbin.com/content/fifa22/img/nati...  \n",
       "\n",
       "[5 rows x 93 columns]"
      ]
     },
     "execution_count": 25,
     "metadata": {},
     "output_type": "execute_result"
    }
   ],
   "source": [
    "players.head()"
   ]
  },
  {
   "cell_type": "code",
   "execution_count": 26,
   "id": "dfccb9a9",
   "metadata": {},
   "outputs": [
    {
     "data": {
      "text/plain": [
       "Index(['futbin_id', 'base_id', 'resource_id', 'player_url', 'short_name',\n",
       "       'long_name', 'fut_card_added_date', 'fut_card_quality',\n",
       "       'fut_card_revision', 'fut_card_origin', 'overall', 'club_id',\n",
       "       'club_name', 'league_id', 'league_name', 'nationality_id',\n",
       "       'nationality_name', 'player_position', 'age', 'dob', 'height_cm',\n",
       "       'weight_kg', 'international_reputation', 'preferred_foot', 'weak_foot',\n",
       "       'skill_moves', 'att_workrate', 'def_workrate', 'body_type', 'real_face',\n",
       "       'player_traits', 'player_specialities', 'pace', 'pace_acceleration',\n",
       "       'pace_sprint_speed', 'shooting', 'shooting_positioning',\n",
       "       'shooting_finishing', 'shooting_shot_power', 'shooting_long_shots',\n",
       "       'shooting_volleys', 'shooting_penalties', 'passing', 'passing_vision',\n",
       "       'passing_crossing', 'passing_fk_accuracy', 'passing_short_passing',\n",
       "       'passing_long_passing', 'passing_curve', 'dribbling',\n",
       "       'dribbling_agility', 'dribbling_balance', 'dribbling_reactions',\n",
       "       'dribbling_ball_control', 'dribbling_dribbling', 'dribbling_composure',\n",
       "       'defending', 'defending_interceptions', 'defending_heading_accuracy',\n",
       "       'defending_marking_awareness', 'defending_standing_tackle',\n",
       "       'defending_sliding_tackle', 'physicality', 'physicality_jumping',\n",
       "       'physicality_stamina', 'physicality_strength', 'physicality_aggression',\n",
       "       'gk_diving', 'gk_handling', 'gk_kicking', 'gk_reflexes', 'gk_speed',\n",
       "       'gk_positioning', 'st', 'lw', 'rw', 'lf', 'rf', 'cf', 'cam', 'lm', 'rm',\n",
       "       'cm', 'cdm', 'lwb', 'rwb', 'lb', 'rb', 'cb', 'player_face_url',\n",
       "       'club_logo_url', 'league_logo_url', 'nationality_flag_url'],\n",
       "      dtype='object')"
      ]
     },
     "execution_count": 26,
     "metadata": {},
     "output_type": "execute_result"
    }
   ],
   "source": [
    "players.columns"
   ]
  },
  {
   "cell_type": "code",
   "execution_count": 27,
   "id": "839f5d04",
   "metadata": {},
   "outputs": [],
   "source": [
    "players = players.drop(columns=['base_id','resource_id','player_url','fut_card_added_date','club_id',\n",
    "       'club_name','league_id','nationality_id','dob','international_reputation','real_face','player_traits',\n",
    "       'player_specialities','pace_acceleration','pace_sprint_speed','shooting_positioning','shooting_finishing',\n",
    "       'shooting_shot_power','shooting_long_shots','shooting_volleys','shooting_penalties','passing_vision',\n",
    "       'passing_crossing','passing_fk_accuracy','passing_short_passing','passing_long_passing','passing_curve',\n",
    "       'dribbling_agility','dribbling_balance','dribbling_reactions','dribbling_ball_control', 'dribbling_dribbling',\n",
    "       'dribbling_composure','defending_interceptions','defending_heading_accuracy','defending_marking_awareness',\n",
    "       'defending_standing_tackle','defending_sliding_tackle','physicality_jumping','physicality_stamina',\n",
    "       'physicality_strength','physicality_aggression','player_face_url',\n",
    "       'club_logo_url','league_logo_url','nationality_flag_url','fut_card_origin',])"
   ]
  },
  {
   "cell_type": "code",
   "execution_count": 28,
   "id": "f51233bd",
   "metadata": {},
   "outputs": [
    {
     "data": {
      "text/plain": [
       "(17305, 46)"
      ]
     },
     "execution_count": 28,
     "metadata": {},
     "output_type": "execute_result"
    }
   ],
   "source": [
    "players.shape"
   ]
  },
  {
   "cell_type": "code",
   "execution_count": 29,
   "id": "dfa4f921",
   "metadata": {},
   "outputs": [
    {
     "data": {
      "text/plain": [
       "Index(['futbin_id', 'short_name', 'long_name', 'fut_card_quality',\n",
       "       'fut_card_revision', 'overall', 'league_name', 'nationality_name',\n",
       "       'player_position', 'age', 'height_cm', 'weight_kg', 'preferred_foot',\n",
       "       'weak_foot', 'skill_moves', 'att_workrate', 'def_workrate', 'body_type',\n",
       "       'pace', 'shooting', 'passing', 'dribbling', 'defending', 'physicality',\n",
       "       'gk_diving', 'gk_handling', 'gk_kicking', 'gk_reflexes', 'gk_speed',\n",
       "       'gk_positioning', 'st', 'lw', 'rw', 'lf', 'rf', 'cf', 'cam', 'lm', 'rm',\n",
       "       'cm', 'cdm', 'lwb', 'rwb', 'lb', 'rb', 'cb'],\n",
       "      dtype='object')"
      ]
     },
     "execution_count": 29,
     "metadata": {},
     "output_type": "execute_result"
    }
   ],
   "source": [
    "players.columns"
   ]
  },
  {
   "cell_type": "code",
   "execution_count": 30,
   "id": "6b7e37dc",
   "metadata": {},
   "outputs": [],
   "source": [
    "players = players.rename(columns={\"short_name\": \"Nick_Name\", \"long_name\": \"Full_Name\", \"fut_card_quality\": \"Card_Quality\", \"fut_card_revision\": \"Card_Type\", \"fut_card_origin\": \"Card_Origin\", \"overall\": \"Overall_Rating\"})"
   ]
  },
  {
   "cell_type": "code",
   "execution_count": 31,
   "id": "7b18cdec",
   "metadata": {},
   "outputs": [],
   "source": [
    "players.columns = map(str.capitalize, players.columns)"
   ]
  },
  {
   "cell_type": "code",
   "execution_count": 32,
   "id": "ea8f257e",
   "metadata": {},
   "outputs": [
    {
     "data": {
      "text/plain": [
       "Index(['Futbin_id', 'Nick_name', 'Full_name', 'Card_quality', 'Card_type',\n",
       "       'Overall_rating', 'League_name', 'Nationality_name', 'Player_position',\n",
       "       'Age', 'Height_cm', 'Weight_kg', 'Preferred_foot', 'Weak_foot',\n",
       "       'Skill_moves', 'Att_workrate', 'Def_workrate', 'Body_type', 'Pace',\n",
       "       'Shooting', 'Passing', 'Dribbling', 'Defending', 'Physicality',\n",
       "       'Gk_diving', 'Gk_handling', 'Gk_kicking', 'Gk_reflexes', 'Gk_speed',\n",
       "       'Gk_positioning', 'St', 'Lw', 'Rw', 'Lf', 'Rf', 'Cf', 'Cam', 'Lm', 'Rm',\n",
       "       'Cm', 'Cdm', 'Lwb', 'Rwb', 'Lb', 'Rb', 'Cb'],\n",
       "      dtype='object')"
      ]
     },
     "execution_count": 32,
     "metadata": {},
     "output_type": "execute_result"
    }
   ],
   "source": [
    "players.columns"
   ]
  },
  {
   "cell_type": "code",
   "execution_count": 33,
   "id": "8271a8e1",
   "metadata": {},
   "outputs": [
    {
     "name": "stdout",
     "output_type": "stream",
     "text": [
      "<class 'pandas.core.frame.DataFrame'>\n",
      "RangeIndex: 17305 entries, 0 to 17304\n",
      "Data columns (total 46 columns):\n",
      " #   Column            Non-Null Count  Dtype  \n",
      "---  ------            --------------  -----  \n",
      " 0   Futbin_id         17305 non-null  int64  \n",
      " 1   Nick_name         17305 non-null  object \n",
      " 2   Full_name         17305 non-null  object \n",
      " 3   Card_quality      17305 non-null  object \n",
      " 4   Card_type         17305 non-null  object \n",
      " 5   Overall_rating    17305 non-null  int64  \n",
      " 6   League_name       17305 non-null  object \n",
      " 7   Nationality_name  17305 non-null  object \n",
      " 8   Player_position   17305 non-null  object \n",
      " 9   Age               17305 non-null  int64  \n",
      " 10  Height_cm         17305 non-null  int64  \n",
      " 11  Weight_kg         17305 non-null  int64  \n",
      " 12  Preferred_foot    17305 non-null  object \n",
      " 13  Weak_foot         17305 non-null  int64  \n",
      " 14  Skill_moves       17305 non-null  int64  \n",
      " 15  Att_workrate      17301 non-null  object \n",
      " 16  Def_workrate      17301 non-null  object \n",
      " 17  Body_type         17156 non-null  object \n",
      " 18  Pace              15390 non-null  float64\n",
      " 19  Shooting          15390 non-null  float64\n",
      " 20  Passing           15390 non-null  float64\n",
      " 21  Dribbling         15390 non-null  float64\n",
      " 22  Defending         15390 non-null  float64\n",
      " 23  Physicality       15390 non-null  float64\n",
      " 24  Gk_diving         1915 non-null   float64\n",
      " 25  Gk_handling       1915 non-null   float64\n",
      " 26  Gk_kicking        1915 non-null   float64\n",
      " 27  Gk_reflexes       1915 non-null   float64\n",
      " 28  Gk_speed          1915 non-null   float64\n",
      " 29  Gk_positioning    1915 non-null   float64\n",
      " 30  St                15387 non-null  float64\n",
      " 31  Lw                15387 non-null  float64\n",
      " 32  Rw                15387 non-null  float64\n",
      " 33  Lf                15387 non-null  float64\n",
      " 34  Rf                15387 non-null  float64\n",
      " 35  Cf                15387 non-null  float64\n",
      " 36  Cam               15387 non-null  float64\n",
      " 37  Lm                15387 non-null  float64\n",
      " 38  Rm                15387 non-null  float64\n",
      " 39  Cm                15387 non-null  float64\n",
      " 40  Cdm               15387 non-null  float64\n",
      " 41  Lwb               15387 non-null  float64\n",
      " 42  Rwb               15387 non-null  float64\n",
      " 43  Lb                15387 non-null  float64\n",
      " 44  Rb                15387 non-null  float64\n",
      " 45  Cb                15387 non-null  float64\n",
      "dtypes: float64(28), int64(7), object(11)\n",
      "memory usage: 6.1+ MB\n"
     ]
    }
   ],
   "source": [
    "players.info()"
   ]
  },
  {
   "cell_type": "code",
   "execution_count": 34,
   "id": "d24616f5",
   "metadata": {},
   "outputs": [
    {
     "data": {
      "text/plain": [
       "array(['Gold - Rare', 'Gold - Non-Rare', 'Silver - Rare',\n",
       "       'Silver - Non-Rare', 'Bronze - Rare', 'Bronze - Non-Rare'],\n",
       "      dtype=object)"
      ]
     },
     "execution_count": 34,
     "metadata": {},
     "output_type": "execute_result"
    }
   ],
   "source": [
    "players['Card_quality'].unique()"
   ]
  },
  {
   "cell_type": "code",
   "execution_count": 35,
   "id": "8bd52f3e",
   "metadata": {},
   "outputs": [
    {
     "data": {
      "text/plain": [
       "array(['Icon', 'Hero', 'Rare', 'Non-Rare', 'OTW', 'Normal', 'non-rare',\n",
       "       'Sudamericana', 'Libertadores', 'Objectives', 'FUT VIP', 'IF',\n",
       "       'OTW SBC', 'OTW Obj'], dtype=object)"
      ]
     },
     "execution_count": 35,
     "metadata": {},
     "output_type": "execute_result"
    }
   ],
   "source": [
    "players['Card_type'].unique()"
   ]
  },
  {
   "cell_type": "code",
   "execution_count": 36,
   "id": "c161d68d",
   "metadata": {},
   "outputs": [],
   "source": [
    "playersOver75 = players.loc[players['Overall_rating'] >= 75]"
   ]
  },
  {
   "cell_type": "code",
   "execution_count": 37,
   "id": "ad9ac4d4",
   "metadata": {},
   "outputs": [
    {
     "data": {
      "text/plain": [
       "(2257, 46)"
      ]
     },
     "execution_count": 37,
     "metadata": {},
     "output_type": "execute_result"
    }
   ],
   "source": [
    "playersOver75.shape"
   ]
  },
  {
   "cell_type": "code",
   "execution_count": 38,
   "id": "2db6d3d3",
   "metadata": {},
   "outputs": [
    {
     "data": {
      "text/plain": [
       "<AxesSubplot:xlabel='Overall_rating', ylabel='count'>"
      ]
     },
     "execution_count": 38,
     "metadata": {},
     "output_type": "execute_result"
    },
    {
     "data": {
      "image/png": "[encoded data removed]",
      "text/plain": [
       "<Figure size 864x576 with 1 Axes>"
      ]
     },
     "metadata": {},
     "output_type": "display_data"
    }
   ],
   "source": [
    "sns.set(rc={'figure.figsize':(12,8)})\n",
    "sns.countplot(playersOver75['Overall_rating'])"
   ]
  },
  {
   "cell_type": "code",
   "execution_count": 39,
   "id": "78f9c761",
   "metadata": {},
   "outputs": [
    {
     "data": {
      "text/plain": [
       "<AxesSubplot:xlabel='Player_position', ylabel='count'>"
      ]
     },
     "execution_count": 39,
     "metadata": {},
     "output_type": "execute_result"
    },
    {
     "data": {
      "image/png": "[encoded data removed]",
      "text/plain": [
       "<Figure size 720x540 with 1 Axes>"
      ]
     },
     "metadata": {},
     "output_type": "display_data"
    }
   ],
   "source": [
    "sns.set(rc={'figure.figsize':(10,7.5)})\n",
    "sns.countplot(playersOver75['Player_position'], order = ['GK','RB','RWB','CB','LWB','LB','CDM','CM','CAM','RM','LM','RW','LW','RF','LF','CF','ST'])"
   ]
  },
  {
   "cell_type": "code",
   "execution_count": 40,
   "id": "c723c097",
   "metadata": {},
   "outputs": [
    {
     "data": {
      "text/html": [
       "<div>\n",
       "<style scoped>\n",
       "    .dataframe tbody tr th:only-of-type {\n",
       "        vertical-align: middle;\n",
       "    }\n",
       "\n",
       "    .dataframe tbody tr th {\n",
       "        vertical-align: top;\n",
       "    }\n",
       "\n",
       "    .dataframe thead th {\n",
       "        text-align: right;\n",
       "    }\n",
       "</style>\n",
       "<table border=\"1\" class=\"dataframe\">\n",
       "  <thead>\n",
       "    <tr style=\"text-align: right;\">\n",
       "      <th></th>\n",
       "      <th>Nick_name</th>\n",
       "      <th>Overall_rating</th>\n",
       "      <th>Player_position</th>\n",
       "    </tr>\n",
       "  </thead>\n",
       "  <tbody>\n",
       "    <tr>\n",
       "      <th>61</th>\n",
       "      <td>Pelé</td>\n",
       "      <td>98</td>\n",
       "      <td>CAM</td>\n",
       "    </tr>\n",
       "    <tr>\n",
       "      <th>264</th>\n",
       "      <td>Ronaldo</td>\n",
       "      <td>96</td>\n",
       "      <td>ST</td>\n",
       "    </tr>\n",
       "    <tr>\n",
       "      <th>62</th>\n",
       "      <td>Pelé</td>\n",
       "      <td>95</td>\n",
       "      <td>CF</td>\n",
       "    </tr>\n",
       "    <tr>\n",
       "      <th>215</th>\n",
       "      <td>Maldini</td>\n",
       "      <td>94</td>\n",
       "      <td>CB</td>\n",
       "    </tr>\n",
       "    <tr>\n",
       "      <th>173</th>\n",
       "      <td>Yashin</td>\n",
       "      <td>94</td>\n",
       "      <td>GK</td>\n",
       "    </tr>\n",
       "    <tr>\n",
       "      <th>261</th>\n",
       "      <td>Ronaldinho</td>\n",
       "      <td>94</td>\n",
       "      <td>LW</td>\n",
       "    </tr>\n",
       "    <tr>\n",
       "      <th>184</th>\n",
       "      <td>Garrincha</td>\n",
       "      <td>94</td>\n",
       "      <td>RW</td>\n",
       "    </tr>\n",
       "    <tr>\n",
       "      <th>176</th>\n",
       "      <td>Matthäus</td>\n",
       "      <td>93</td>\n",
       "      <td>CM</td>\n",
       "    </tr>\n",
       "    <tr>\n",
       "      <th>30</th>\n",
       "      <td>Capita</td>\n",
       "      <td>93</td>\n",
       "      <td>RB</td>\n",
       "    </tr>\n",
       "    <tr>\n",
       "      <th>336</th>\n",
       "      <td>Cafú</td>\n",
       "      <td>93</td>\n",
       "      <td>RWB</td>\n",
       "    </tr>\n",
       "    <tr>\n",
       "      <th>279</th>\n",
       "      <td>Giggs</td>\n",
       "      <td>92</td>\n",
       "      <td>LM</td>\n",
       "    </tr>\n",
       "    <tr>\n",
       "      <th>44</th>\n",
       "      <td>Beckham</td>\n",
       "      <td>92</td>\n",
       "      <td>RM</td>\n",
       "    </tr>\n",
       "    <tr>\n",
       "      <th>175</th>\n",
       "      <td>Matthäus</td>\n",
       "      <td>91</td>\n",
       "      <td>CDM</td>\n",
       "    </tr>\n",
       "    <tr>\n",
       "      <th>257</th>\n",
       "      <td>Carlos</td>\n",
       "      <td>91</td>\n",
       "      <td>LB</td>\n",
       "    </tr>\n",
       "    <tr>\n",
       "      <th>640</th>\n",
       "      <td>Angeliño</td>\n",
       "      <td>83</td>\n",
       "      <td>LWB</td>\n",
       "    </tr>\n",
       "    <tr>\n",
       "      <th>2659</th>\n",
       "      <td>Zaha</td>\n",
       "      <td>82</td>\n",
       "      <td>LF</td>\n",
       "    </tr>\n",
       "  </tbody>\n",
       "</table>\n",
       "</div>"
      ],
      "text/plain": [
       "       Nick_name  Overall_rating Player_position\n",
       "61          Pelé              98             CAM\n",
       "264      Ronaldo              96              ST\n",
       "62          Pelé              95              CF\n",
       "215      Maldini              94              CB\n",
       "173       Yashin              94              GK\n",
       "261   Ronaldinho              94              LW\n",
       "184    Garrincha              94              RW\n",
       "176     Matthäus              93              CM\n",
       "30        Capita              93              RB\n",
       "336         Cafú              93             RWB\n",
       "279        Giggs              92              LM\n",
       "44       Beckham              92              RM\n",
       "175     Matthäus              91             CDM\n",
       "257       Carlos              91              LB\n",
       "640     Angeliño              83             LWB\n",
       "2659        Zaha              82              LF"
      ]
     },
     "execution_count": 40,
     "metadata": {},
     "output_type": "execute_result"
    }
   ],
   "source": [
    "players_top_pos = playersOver75.loc[playersOver75.groupby(playersOver75['Player_position'])['Overall_rating'].idxmax()]\n",
    "players_top_players_by_pos = players_top_pos.loc[:,['Nick_name','Overall_rating','Player_position']]\n",
    "players_top_players_by_pos.sort_values(by='Overall_rating',ascending=False)"
   ]
  },
  {
   "cell_type": "code",
   "execution_count": 41,
   "id": "c06bfab3",
   "metadata": {},
   "outputs": [
    {
     "data": {
      "text/plain": [
       "<AxesSubplot:xlabel='Nationality_name', ylabel='count'>"
      ]
     },
     "execution_count": 41,
     "metadata": {},
     "output_type": "execute_result"
    },
    {
     "data": {
      "image/png": "[encoded data removed]",
      "text/plain": [
       "<Figure size 1080x720 with 1 Axes>"
      ]
     },
     "metadata": {},
     "output_type": "display_data"
    }
   ],
   "source": [
    "sns.set(rc={'figure.figsize':(15,10)})\n",
    "sns.countplot(playersOver75['Nationality_name'],order=pd.value_counts(playersOver75['Nationality_name']).iloc[:10].index)"
   ]
  },
  {
   "cell_type": "code",
   "execution_count": 42,
   "id": "5cbda66b",
   "metadata": {},
   "outputs": [
    {
     "data": {
      "text/plain": [
       "(array([ 583., 1141.,  236.,  142.,   72.,   50.,    6.,    9.,    9.,\n",
       "           9.]),\n",
       " array([18. , 25.6, 33.2, 40.8, 48.4, 56. , 63.6, 71.2, 78.8, 86.4, 94. ]),\n",
       " <BarContainer object of 10 artists>)"
      ]
     },
     "execution_count": 42,
     "metadata": {},
     "output_type": "execute_result"
    },
    {
     "data": {
      "image/png": "[encoded data removed]",
      "text/plain": [
       "<Figure size 1080x720 with 1 Axes>"
      ]
     },
     "metadata": {},
     "output_type": "display_data"
    }
   ],
   "source": [
    "plt.hist(playersOver75['Age'])"
   ]
  },
  {
   "cell_type": "code",
   "execution_count": null,
   "id": "4eede4cb",
   "metadata": {},
   "outputs": [],
   "source": []
  }
 ],
 "metadata": {
  "kernelspec": {
   "display_name": "Python 3",
   "language": "python",
   "name": "python3"
  },
  "language_info": {
   "codemirror_mode": {
    "name": "ipython",
    "version": 3
   },
   "file_extension": ".py",
   "mimetype": "text/x-python",
   "name": "python",
   "nbconvert_exporter": "python",
   "pygments_lexer": "ipython3",
   "version": "3.8.8"
  }
 },
 "nbformat": 4,
 "nbformat_minor": 5
}
