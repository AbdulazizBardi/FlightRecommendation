{
 "cells": [
  {
   "cell_type": "markdown",
   "id": "085af63e",
   "metadata": {},
   "source": [
    "# Minimum Viable Product (MVP)"
   ]
  },
  {
   "cell_type": "markdown",
   "id": "593f1b81",
   "metadata": {},
   "source": [
    "The goal is to better understand the dataset. And performing EDA as well as cleaning the dataset."
   ]
  },
  {
   "cell_type": "code",
   "execution_count": 102,
   "id": "c5e8e789",
   "metadata": {},
   "outputs": [],
   "source": [
    "import pandas as pd\n",
    "import numpy as np\n",
    "import matplotlib.pyplot as plt\n",
    "import seaborn as sns"
   ]
  },
  {
   "cell_type": "code",
   "execution_count": 103,
   "id": "d8c332d8",
   "metadata": {},
   "outputs": [],
   "source": [
    "# read csv file\n",
    "players = pd.read_csv('Fifa Fut Players.csv')"
   ]
  },
  {
   "cell_type": "code",
   "execution_count": 104,
   "id": "cb1cbdc6",
   "metadata": {},
   "outputs": [
    {
     "data": {
      "text/html": [
       "<div>\n",
       "<style scoped>\n",
       "    .dataframe tbody tr th:only-of-type {\n",
       "        vertical-align: middle;\n",
       "    }\n",
       "\n",
       "    .dataframe tbody tr th {\n",
       "        vertical-align: top;\n",
       "    }\n",
       "\n",
       "    .dataframe thead th {\n",
       "        text-align: right;\n",
       "    }\n",
       "</style>\n",
       "<table border=\"1\" class=\"dataframe\">\n",
       "  <thead>\n",
       "    <tr style=\"text-align: right;\">\n",
       "      <th></th>\n",
       "      <th>Name</th>\n",
       "      <th>RAT</th>\n",
       "      <th>POS</th>\n",
       "      <th>VER</th>\n",
       "      <th>PS</th>\n",
       "      <th>SKI</th>\n",
       "      <th>WF</th>\n",
       "      <th>WR</th>\n",
       "      <th>PAC</th>\n",
       "      <th>SHO</th>\n",
       "      <th>PAS</th>\n",
       "      <th>DRI</th>\n",
       "      <th>DEF</th>\n",
       "      <th>PHY</th>\n",
       "      <th>Body_info</th>\n",
       "      <th>Popularity</th>\n",
       "      <th>BS</th>\n",
       "      <th>IGS</th>\n",
       "    </tr>\n",
       "  </thead>\n",
       "  <tbody>\n",
       "    <tr>\n",
       "      <th>0</th>\n",
       "      <td>Pelé</td>\n",
       "      <td>98</td>\n",
       "      <td>CAM</td>\n",
       "      <td>Icon</td>\n",
       "      <td>0</td>\n",
       "      <td>5</td>\n",
       "      <td>4</td>\n",
       "      <td>H \\ M</td>\n",
       "      <td>95</td>\n",
       "      <td>96</td>\n",
       "      <td>93</td>\n",
       "      <td>96</td>\n",
       "      <td>60</td>\n",
       "      <td>76</td>\n",
       "      <td>173cm | 5'8\"  Unique (70kg)</td>\n",
       "      <td>173</td>\n",
       "      <td>516</td>\n",
       "      <td>2513</td>\n",
       "    </tr>\n",
       "    <tr>\n",
       "      <th>1</th>\n",
       "      <td>Diego Maradona</td>\n",
       "      <td>97</td>\n",
       "      <td>CAM</td>\n",
       "      <td>Icon</td>\n",
       "      <td>0</td>\n",
       "      <td>5</td>\n",
       "      <td>3</td>\n",
       "      <td>H \\ M</td>\n",
       "      <td>92</td>\n",
       "      <td>93</td>\n",
       "      <td>92</td>\n",
       "      <td>97</td>\n",
       "      <td>40</td>\n",
       "      <td>76</td>\n",
       "      <td>165cm | 5'5\"  Maradona (70kg)</td>\n",
       "      <td>73</td>\n",
       "      <td>490</td>\n",
       "      <td>2392</td>\n",
       "    </tr>\n",
       "    <tr>\n",
       "      <th>2</th>\n",
       "      <td>Ronaldo</td>\n",
       "      <td>96</td>\n",
       "      <td>ST</td>\n",
       "      <td>Icon</td>\n",
       "      <td>0</td>\n",
       "      <td>5</td>\n",
       "      <td>5</td>\n",
       "      <td>M \\ M</td>\n",
       "      <td>97</td>\n",
       "      <td>95</td>\n",
       "      <td>81</td>\n",
       "      <td>95</td>\n",
       "      <td>45</td>\n",
       "      <td>76</td>\n",
       "      <td>183cm | 6'0\"  R9 (78kg)</td>\n",
       "      <td>215</td>\n",
       "      <td>489</td>\n",
       "      <td>2341</td>\n",
       "    </tr>\n",
       "    <tr>\n",
       "      <th>3</th>\n",
       "      <td>Zinedine Zidane</td>\n",
       "      <td>96</td>\n",
       "      <td>CAM</td>\n",
       "      <td>Icon</td>\n",
       "      <td>0</td>\n",
       "      <td>5</td>\n",
       "      <td>5</td>\n",
       "      <td>M \\ M</td>\n",
       "      <td>85</td>\n",
       "      <td>92</td>\n",
       "      <td>96</td>\n",
       "      <td>95</td>\n",
       "      <td>75</td>\n",
       "      <td>86</td>\n",
       "      <td>185cm | 6'1\"  Average (77kg)</td>\n",
       "      <td>52</td>\n",
       "      <td>529</td>\n",
       "      <td>2548</td>\n",
       "    </tr>\n",
       "    <tr>\n",
       "      <th>4</th>\n",
       "      <td>Diego Maradona</td>\n",
       "      <td>95</td>\n",
       "      <td>CAM</td>\n",
       "      <td>Icon</td>\n",
       "      <td>2.1M</td>\n",
       "      <td>5</td>\n",
       "      <td>3</td>\n",
       "      <td>H \\ M</td>\n",
       "      <td>88</td>\n",
       "      <td>91</td>\n",
       "      <td>90</td>\n",
       "      <td>95</td>\n",
       "      <td>42</td>\n",
       "      <td>75</td>\n",
       "      <td>165cm | 5'5\"  Maradona (72kg)</td>\n",
       "      <td>46</td>\n",
       "      <td>481</td>\n",
       "      <td>2357</td>\n",
       "    </tr>\n",
       "  </tbody>\n",
       "</table>\n",
       "</div>"
      ],
      "text/plain": [
       "              Name  RAT  POS   VER    PS  SKI  WF     WR  PAC  SHO  PAS  DRI  \\\n",
       "0             Pelé   98  CAM  Icon     0    5   4  H \\ M   95   96   93   96   \n",
       "1   Diego Maradona   97  CAM  Icon     0    5   3  H \\ M   92   93   92   97   \n",
       "2          Ronaldo   96   ST  Icon     0    5   5  M \\ M   97   95   81   95   \n",
       "3  Zinedine Zidane   96  CAM  Icon     0    5   5  M \\ M   85   92   96   95   \n",
       "4   Diego Maradona   95  CAM  Icon  2.1M    5   3  H \\ M   88   91   90   95   \n",
       "\n",
       "   DEF  PHY                      Body_info  Popularity   BS   IGS  \n",
       "0   60   76    173cm | 5'8\"  Unique (70kg)         173  516  2513  \n",
       "1   40   76  165cm | 5'5\"  Maradona (70kg)          73  490  2392  \n",
       "2   45   76        183cm | 6'0\"  R9 (78kg)         215  489  2341  \n",
       "3   75   86   185cm | 6'1\"  Average (77kg)          52  529  2548  \n",
       "4   42   75  165cm | 5'5\"  Maradona (72kg)          46  481  2357  "
      ]
     },
     "execution_count": 104,
     "metadata": {},
     "output_type": "execute_result"
    }
   ],
   "source": [
    "# display a sample of 5 rows from the data \n",
    "players.head()"
   ]
  },
  {
   "cell_type": "code",
   "execution_count": 105,
   "id": "5dbf108b",
   "metadata": {},
   "outputs": [
    {
     "data": {
      "text/plain": [
       "Index(['Name', 'RAT', 'POS', 'VER', 'PS', 'SKI', 'WF', 'WR', 'PAC', 'SHO',\n",
       "       'PAS', 'DRI', 'DEF', 'PHY', 'Body_info', 'Popularity', 'BS', 'IGS'],\n",
       "      dtype='object')"
      ]
     },
     "execution_count": 105,
     "metadata": {},
     "output_type": "execute_result"
    }
   ],
   "source": [
    "# display all columns in the dataset\n",
    "players.columns"
   ]
  },
  {
   "cell_type": "code",
   "execution_count": 106,
   "id": "c15ff8c8",
   "metadata": {},
   "outputs": [
    {
     "name": "stdout",
     "output_type": "stream",
     "text": [
      "<class 'pandas.core.frame.DataFrame'>\n",
      "RangeIndex: 17512 entries, 0 to 17511\n",
      "Data columns (total 18 columns):\n",
      " #   Column      Non-Null Count  Dtype \n",
      "---  ------      --------------  ----- \n",
      " 0   Name        17512 non-null  object\n",
      " 1   RAT         17512 non-null  int64 \n",
      " 2   POS         17512 non-null  object\n",
      " 3   VER         17512 non-null  object\n",
      " 4   PS          17512 non-null  object\n",
      " 5   SKI         17512 non-null  int64 \n",
      " 6   WF          17512 non-null  int64 \n",
      " 7   WR          17512 non-null  object\n",
      " 8   PAC         17512 non-null  int64 \n",
      " 9   SHO         17512 non-null  int64 \n",
      " 10  PAS         17512 non-null  int64 \n",
      " 11  DRI         17512 non-null  int64 \n",
      " 12  DEF         17512 non-null  int64 \n",
      " 13  PHY         17512 non-null  int64 \n",
      " 14  Body_info   17512 non-null  object\n",
      " 15  Popularity  17512 non-null  int64 \n",
      " 16  BS          17512 non-null  int64 \n",
      " 17  IGS         17512 non-null  object\n",
      "dtypes: int64(11), object(7)\n",
      "memory usage: 2.4+ MB\n"
     ]
    }
   ],
   "source": [
    "# identify the columns information such as, nulls number and data types\n",
    "players.info()"
   ]
  },
  {
   "cell_type": "code",
   "execution_count": 107,
   "id": "dfa697d6",
   "metadata": {},
   "outputs": [],
   "source": [
    "# drop unknown and unsed columns\n",
    "players = players.drop(columns=['BS','IGS','Popularity'])"
   ]
  },
  {
   "cell_type": "code",
   "execution_count": 108,
   "id": "4fb7686d",
   "metadata": {},
   "outputs": [],
   "source": [
    "# renaming the columns to more meaningful namesabs\n",
    "players = players.rename(columns={\"RAT\": \"Overall Rating\", \"POS\": \"Position\", \"VER\": \"Card Type\", \"PS\": \"Price\", \"SKI\": \"Skills out of 5\", \"WF\": \"Weak Foot out of 5\", \"WR\": \"Work Rate\", \"PAC\": \"Pace Attribute\", \"SHO\": \"Shoot Attribute\", \"PAS\": \"Pass Attribute\", \"DRI\": \"Dribble Attribute\", \"DEF\": \"Defense Attribute\", \"PHY\": \"Physical Attribute\", \"Body_info\":\"Body Measurements\"})"
   ]
  },
  {
   "cell_type": "code",
   "execution_count": 109,
   "id": "ecf27c64",
   "metadata": {},
   "outputs": [],
   "source": [
    "# get only players above 75 in Overall rating\n",
    "playersOver75 = players.loc[players['Overall Rating'] > 75]"
   ]
  },
  {
   "cell_type": "code",
   "execution_count": 110,
   "id": "1d591bb8",
   "metadata": {
    "scrolled": true
   },
   "outputs": [
    {
     "name": "stderr",
     "output_type": "stream",
     "text": [
      "/Users/abdulazizbardi/opt/anaconda3/lib/python3.8/site-packages/seaborn/_decorators.py:36: FutureWarning: Pass the following variable as a keyword arg: x. From version 0.12, the only valid positional argument will be `data`, and passing other arguments without an explicit keyword will result in an error or misinterpretation.\n",
      "  warnings.warn(\n"
     ]
    },
    {
     "data": {
      "text/plain": [
       "<AxesSubplot:xlabel='Overall Rating', ylabel='count'>"
      ]
     },
     "execution_count": 110,
     "metadata": {},
     "output_type": "execute_result"
    },
    {
     "data": {
      "image/png": "[encoded data removed]",
      "text/plain": [
       "<Figure size 432x288 with 1 Axes>"
      ]
     },
     "metadata": {
      "needs_background": "light"
     },
     "output_type": "display_data"
    }
   ],
   "source": [
    "# plot in bar, the count of players based on thier overall rating\n",
    "sns.countplot(playersOver75['Overall Rating'])"
   ]
  },
  {
   "cell_type": "code",
   "execution_count": 111,
   "id": "2b6afb39",
   "metadata": {},
   "outputs": [
    {
     "name": "stderr",
     "output_type": "stream",
     "text": [
      "/Users/abdulazizbardi/opt/anaconda3/lib/python3.8/site-packages/seaborn/_decorators.py:36: FutureWarning: Pass the following variable as a keyword arg: x. From version 0.12, the only valid positional argument will be `data`, and passing other arguments without an explicit keyword will result in an error or misinterpretation.\n",
      "  warnings.warn(\n"
     ]
    },
    {
     "data": {
      "text/plain": [
       "<AxesSubplot:xlabel='Position', ylabel='count'>"
      ]
     },
     "execution_count": 111,
     "metadata": {},
     "output_type": "execute_result"
    },
    {
     "data": {
      "image/png": "[encoded data removed]",
      "text/plain": [
       "<Figure size 432x288 with 1 Axes>"
      ]
     },
     "metadata": {
      "needs_background": "light"
     },
     "output_type": "display_data"
    }
   ],
   "source": [
    "# plot in bar, the count of players based on thier position\n",
    "sns.countplot(playersOver75['Position'])"
   ]
  },
  {
   "cell_type": "code",
   "execution_count": null,
   "id": "33f5bc7a",
   "metadata": {},
   "outputs": [],
   "source": []
  },
  {
   "cell_type": "code",
   "execution_count": null,
   "id": "d1084a48",
   "metadata": {},
   "outputs": [],
   "source": []
  }
 ],
 "metadata": {
  "kernelspec": {
   "display_name": "Python 3",
   "language": "python",
   "name": "python3"
  },
  "language_info": {
   "codemirror_mode": {
    "name": "ipython",
    "version": 3
   },
   "file_extension": ".py",
   "mimetype": "text/x-python",
   "name": "python",
   "nbconvert_exporter": "python",
   "pygments_lexer": "ipython3",
   "version": "3.8.8"
  }
 },
 "nbformat": 4,
 "nbformat_minor": 5
}
